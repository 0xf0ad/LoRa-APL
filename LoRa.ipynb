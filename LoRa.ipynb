{
 "cells": [
  {
   "cell_type": "code",
   "execution_count": 1,
   "id": "a7257827-2806-43a7-8ccb-448b10ed7bb0",
   "metadata": {},
   "outputs": [
    {
     "data": {
      "text/html": [
       "<pre class=\"language-APL\">/opt/mdyalog/19.0/64/unicode/ws/isolate.dws ⍝ saved Wed Sep  4 22:43:51 2024\n",
       "                                                       \n",
       " For information on how to use Futures and Isolates,   \n",
       " see the manual \"Parallel Language Features\",          \n",
       " which can be found in the Dyalog Documentation Centre \n",
       " at http://docs.dyalog.com                             \n",
       "</pre>"
      ]
     },
     "execution_count": 1,
     "metadata": {},
     "output_type": "execute_result"
    },
    {
     "data": {
      "text/html": [
       "<pre class=\"language-APL\">0\n",
       "</pre>"
      ]
     },
     "execution_count": 1,
     "metadata": {},
     "output_type": "execute_result"
    }
   ],
   "source": [
    ")load isolate\n",
    "isolate.Config 'listen' 1"
   ]
  },
  {
   "cell_type": "code",
   "execution_count": 2,
   "id": "5b8c9a36-5951-46b5-bae6-39409eb989e3",
   "metadata": {},
   "outputs": [],
   "source": [
    "SNRs ← (¯35 + (⍳50)÷2)\n",
    "iso ← ø¨(≢SNRs)⍴⊂''\n",
    "iso.SNR ← SNRs"
   ]
  },
  {
   "cell_type": "code",
   "execution_count": 3,
   "id": "1f154a25-e8b7-43c7-ada6-d60cafa56f73",
   "metadata": {},
   "outputs": [],
   "source": [
    "'InitCauseway' 'View' ⎕CY'sharpplot'"
   ]
  },
  {
   "cell_type": "code",
   "execution_count": 4,
   "id": "56f5bccf-c3be-4e29-a1f8-4fc2a88e6cbd",
   "metadata": {},
   "outputs": [],
   "source": [
    "]dinput\n",
    "plot ← {\n",
    "    do  ← {⍎'⍺⍺ ⍵ ⋄ ⍵' ⋄ ⍺⍺}\n",
    "    _   ← InitCauseway do ⍬\n",
    "    sp  ← ⎕NEW Causeway.SharpPlot\n",
    "    ⍝sp.YAxisStyle ← Causeway.YAxisStyles.LogScale + Causeway.YAxisStyles.ClampToAxis\n",
    "    sp.Heading ← (2⊃⍺)\n",
    "    sp.XCaptions ← (3⊃⍺)\n",
    "    sp.YCaptions ← (4⊃⍺)\n",
    "    ⍝sp.LineGraphStyle ← Causeway.LineGraphStyles.GridLines\n",
    "    _   ← sp.DrawLineGraph do ⍵\n",
    "    sp.SavePdf (1⊃⍺) Causeway.PdfMode.ShowOutlines\n",
    "    ⍝svg ← sp.RenderSvg Causeway.SvgMode.FixedAspect\n",
    "    ⍝_   ← 'Reaction Times' (3500⌶) svg\n",
    "}"
   ]
  },
  {
   "cell_type": "code",
   "execution_count": 5,
   "id": "23b48ae8-b940-415e-83f1-a4d3e68b9080",
   "metadata": {},
   "outputs": [],
   "source": [
    "]dinput\n",
    "fft ← {\n",
    "    k    ← 2÷⍨≢⍵\n",
    "    1>k : ⍵\n",
    "    0≠1 | 2⍟≢⍵: 'la taille doit etre un mult de 2'\n",
    "    odd  ← ∇((≢⍵)⍴1 0)/⍵\n",
    "    even ← ∇((≢⍵)⍴0 1)/⍵\n",
    "    exp  ← *(0J¯2×(○1)×(¯1+⍳k)÷≢⍵)\n",
    "    T    ← even × exp\n",
    "    (odd+T), (odd-T)\n",
    "}"
   ]
  },
  {
   "cell_type": "code",
   "execution_count": 6,
   "id": "ce26e1fd-93b5-4533-9bbf-bb3e891262fa",
   "metadata": {},
   "outputs": [],
   "source": [
    "iso.SF ← SF ← 8                 ⍝ spread factor\n",
    "iso.ns ← ns ← 2*12              ⍝ nombre de samples at least 19\n",
    "iso.B  ← B  ← 125e3             ⍝ bandwitdh\n",
    "iso.f0 ← f0 ← 0\n",
    "iso.T  ← T  ← 1 ÷ B             ⍝ periode\n",
    "iso.Ts ← Ts ← T × 2*SF          ⍝ periode de symbole\n",
    "iso.t  ← ⊂(¯1+⍳ns)×Ts÷ns   ⍝ variable du temps\n",
    "t  ← (¯1+⍳ns)×Ts÷ns\n",
    "iso.Ps ← Ps ← 1"
   ]
  },
  {
   "cell_type": "code",
   "execution_count": 7,
   "id": "d52d9c1a-d099-499b-865c-286791bfa36e",
   "metadata": {},
   "outputs": [],
   "source": [
    "Re  ← { (⍵ + +⍵) ÷ 2 }"
   ]
  },
  {
   "cell_type": "code",
   "execution_count": 8,
   "id": "f2a63d50-65cc-4579-9563-e2b6564deaba",
   "metadata": {},
   "outputs": [],
   "source": [
    "]dinput\n",
    "chirp ← {\n",
    "    s   ← ⍵\n",
    "    f   ← ((2*SF) | (t÷T) + s) × (B÷(2*SF))\n",
    "    phi ← ○2 × +\\ (f0+f) × Ts÷ns\n",
    "    *(0J1 × phi)\n",
    "}"
   ]
  },
  {
   "cell_type": "code",
   "execution_count": 9,
   "id": "6da50b37-3998-4394-83bb-0c35172da05e",
   "metadata": {},
   "outputs": [],
   "source": [
    "]dinput\n",
    "chirp_string ← {\n",
    "    w ← ⎕UCS ⍵\n",
    "    ∊chirp¨w\n",
    "}"
   ]
  },
  {
   "cell_type": "code",
   "execution_count": 19,
   "id": "11caa71f-7a5c-4375-acc9-81e5e9da4edc",
   "metadata": {},
   "outputs": [
    {
     "data": {
      "text/html": [
       "<pre class=\"language-APL\">#.Py\n",
       "</pre>"
      ]
     },
     "execution_count": 19,
     "metadata": {},
     "output_type": "execute_result"
    }
   ],
   "source": [
    "⍝ https://github.com/Dyalog/pynapl.git\n",
    "]load ../pynapl/pynapl/Py\n",
    "py ← ⎕NEW Py.Py\n",
    "plt ← py.Import 'matplotlib.pyplot'"
   ]
  },
  {
   "cell_type": "code",
   "execution_count": 10,
   "id": "305acfed-cf29-4ca5-8f53-4c72f925cfca",
   "metadata": {},
   "outputs": [],
   "source": [
    "]dinput\n",
    "gauss ← {\n",
    "   depth ← 2*32                             ⍝ profondeure de aletoirement\n",
    "   (x y) ← ⊂[1+⍳⍴,⍵](?(2,⍵)⍴ depth) ÷ depth ⍝ deux variables aleatoires dans ]0;1]\n",
    "   ((¯2×⍟x) * 0.5) × *(0J1 × ○2 × y)        ⍝ methode de Box-Muller\n",
    "}"
   ]
  },
  {
   "cell_type": "code",
   "execution_count": 11,
   "id": "4e9beeb0-985d-429c-bde7-c7988f11ced7",
   "metadata": {},
   "outputs": [],
   "source": [
    "noise ← { ((Ps × 10*SNR÷¯10) * 0.5) × gauss ≢⍵ }"
   ]
  },
  {
   "cell_type": "code",
   "execution_count": 21,
   "id": "c0053a5b-578d-46b9-bc74-e835aba586ab",
   "metadata": {},
   "outputs": [],
   "source": [
    "chop ← { s ← ≢⍵ ⋄ ws ← s÷16 ⋄ sk ← 15 ⋄ ( (1+s-ws) ⍴ ((sk⍴0), 1))/ (ws ,/ ⍵) }"
   ]
  },
  {
   "cell_type": "code",
   "execution_count": 13,
   "id": "4334e2b1-399d-4432-8999-1819ab72f2ec",
   "metadata": {},
   "outputs": [],
   "source": [
    "spectrogram ← { N ← 2 ⋄ {((≢⍵)÷N)↑⍵} |fft ¨ chop ⍵ (,⍣N)⍬ }"
   ]
  },
  {
   "cell_type": "code",
   "execution_count": 32,
   "id": "aa283041-db07-4783-831a-97dcc61ce2d6",
   "metadata": {},
   "outputs": [],
   "source": [
    "sym ← 125\n",
    "c   ← chirp sym\n",
    "SNR ← 0\n",
    "r   ← c + noise c\n",
    "('c_s.pdf' 'signal chirp dans le domain temporiel' 'c' 't') plot (Re c) t\n",
    "('noise.pdf' 'bruit gaussian additive blanc' 'n' 't') plot (Re noise c) t\n",
    "('signal0.pdf' 'signal bruite a SNR = 0' 'n' 't') plot (Re r) t\n",
    "SNR ← ¯10\n",
    "r   ← c + noise c\n",
    "('signal10.pdf' 'signal bruite a SNR = 10' 'n' 't') plot (Re r) t"
   ]
  },
  {
   "cell_type": "code",
   "execution_count": null,
   "id": "c1d5c8d6-c0a7-4902-ae6e-3ce7e89f1e5d",
   "metadata": {},
   "outputs": [],
   "source": []
  },
  {
   "cell_type": "code",
   "execution_count": 35,
   "id": "c1cbfb83-fecf-4c66-85b8-d41447a9fe9d",
   "metadata": {},
   "outputs": [],
   "source": [
    "plt.imshow ⊂↓⌽⍉↑spectrogram c\n",
    "plt.show ⍬\n",
    "plt.imshow ⊂↓⌽⍉↑spectrogram r\n",
    "plt.show ⍬\n",
    "plt.imshow ⊂↓⌽⍉↑spectrogram dechirp ⍬\n",
    "plt.show ⍬\n",
    "plt.imshow ⊂↓⌽⍉↑spectrogram (r×dechirp ⍬)\n",
    "plt.show ⍬"
   ]
  },
  {
   "cell_type": "code",
   "execution_count": null,
   "id": "312dbb2b-3ab8-4f17-9632-d0bc49a8f18b",
   "metadata": {},
   "outputs": [],
   "source": [
    "1"
   ]
  },
  {
   "cell_type": "code",
   "execution_count": null,
   "id": "669bea3a-9fff-4fae-862d-681f641570d9",
   "metadata": {},
   "outputs": [],
   "source": []
  },
  {
   "cell_type": "code",
   "execution_count": 16,
   "id": "54cf6760-1182-46a6-86d1-e0da67d0a638",
   "metadata": {},
   "outputs": [],
   "source": [
    "dechirp ← { s ← {⍵ ≡ ⍬: 0 ⋄ ⍵}⍵ ⋄ ⊖+chirp s }"
   ]
  },
  {
   "cell_type": "code",
   "execution_count": null,
   "id": "b2359c8b-e784-4e2c-adfa-3ccae4685f5b",
   "metadata": {},
   "outputs": [],
   "source": []
  },
  {
   "cell_type": "code",
   "execution_count": null,
   "id": "0f950a82-97c6-4d04-b834-bb68ba7fbeea",
   "metadata": {},
   "outputs": [],
   "source": [
    "\n",
    "plt.imshow ⊂ spectrogram (c×dechirp ⍬)\n",
    "plt.show ⍬"
   ]
  },
  {
   "cell_type": "code",
   "execution_count": null,
   "id": "477a1aa1-63b5-49f3-a5be-f6d40aeca7e2",
   "metadata": {},
   "outputs": [],
   "source": [
    "c   ← chirp sym\n",
    "SNR ← ¯3\n",
    "r   ← c + noise c\n",
    "('noisyscalar.pdf' 'produit scalaire du signal bruite' '<r,s>' 's') plot |fft r×dechirp ⍬\n",
    "('perfectscalar.pdf' 'produit scalaire du signal parfait' '<r,s>' 's') plot |fft c×dechirp ⍬"
   ]
  },
  {
   "cell_type": "code",
   "execution_count": 18,
   "id": "0b5c6580-6680-42cc-9ebe-8f4e16e0cf99",
   "metadata": {},
   "outputs": [],
   "source": [
    "s   ← 128\n",
    "c   ← chirp s\n",
    "SNR ← ¯3\n",
    "r   ← c + noise c\n",
    "('noisyfft.pdf' 'transforme du Fourier du signal bruite' 'fft(r,s)' 's') plot | fft r×dechirp ⍬\n",
    "('perfectfft.pdf' 'transforme du Fourier du signal parfait' 'fft(r,s)' 's') plot | fft c×dechirp ⍬"
   ]
  },
  {
   "cell_type": "code",
   "execution_count": null,
   "id": "5f35109f-826a-42f5-87cf-92c2bbc34ad5",
   "metadata": {},
   "outputs": [],
   "source": [
    "demodulate ← { ¯1 + ⊃⍒|fft ⍵×dechirp ⍬ }"
   ]
  },
  {
   "cell_type": "code",
   "execution_count": null,
   "id": "5ffb8e97-520d-43ed-93be-6536fc40e9e3",
   "metadata": {},
   "outputs": [],
   "source": [
    "]dinput\n",
    "check ← {\n",
    "    c   ← chirp ⍵\n",
    "    r   ← c + noise c\n",
    "    ⍵ = demodulate r\n",
    "}"
   ]
  },
  {
   "cell_type": "code",
   "execution_count": null,
   "id": "90b7215c-06b6-49c9-a788-551a5d53ade4",
   "metadata": {},
   "outputs": [],
   "source": [
    "simulate ← { r ← ⍵ ÷⍨ ⍵ - +/check¨?⍵⍴¯1+2*SF ⋄ r = 0 : 100÷⍵ ⋄ r×100 }"
   ]
  },
  {
   "cell_type": "code",
   "execution_count": null,
   "id": "516551ce-58a4-442f-bc84-816ec9a1f1e6",
   "metadata": {},
   "outputs": [],
   "source": [
    "varieSF ← { SF ⊢← ⍵ ⋄ ns ⊢← 2*SF ⋄ Ts ⊢← T × 2*SF ⋄ t ⊢← (¯1+⍳ns)×Ts÷ns ⋄ simulate 1000 }"
   ]
  },
  {
   "cell_type": "code",
   "execution_count": null,
   "id": "181b7fc8-3be4-434f-a04b-6b3a5dd3b410",
   "metadata": {},
   "outputs": [],
   "source": [
    "_←iso.⎕FX ⊂⎕CR 'fft'\n",
    "_←iso.⎕FX ⊂⎕CR 'check'\n",
    "_←iso.⎕FX ⊂⎕CR 'chirp'\n",
    "_←iso.⎕FX ⊂⎕CR 'noise'\n",
    "_←iso.⎕FX ⊂⎕CR 'demodulate'\n",
    "_←iso.⎕FX ⊂⎕CR 'gauss'\n",
    "_←iso.⎕FX ⊂⎕CR 'dechirp'\n",
    "_←iso.⎕FX ⊂⎕CR 'simulate'\n",
    "_←iso.⎕FX ⊂⎕CR 'varieSF'"
   ]
  },
  {
   "cell_type": "code",
   "execution_count": null,
   "id": "f09deb86-d1b2-48ea-a8a1-ff0abe203934",
   "metadata": {},
   "outputs": [],
   "source": []
  },
  {
   "cell_type": "code",
   "execution_count": null,
   "id": "9a127592-1999-4901-a215-ac72ede2fe2b",
   "metadata": {},
   "outputs": [],
   "source": [
    "SFhh  ← iso.(varieSF¨7+⍳9)"
   ]
  },
  {
   "cell_type": "code",
   "execution_count": null,
   "id": "09ae4505-61cf-4887-b0e6-c7b3b4e5aa08",
   "metadata": {},
   "outputs": [],
   "source": [
    "plot (↓⍉↑SFhh) SNRs"
   ]
  },
  {
   "cell_type": "code",
   "execution_count": null,
   "id": "bed19af0-f9c4-43ca-b967-4fefbcd4005c",
   "metadata": {},
   "outputs": [],
   "source": []
  },
  {
   "cell_type": "code",
   "execution_count": null,
   "id": "8ed129d5-2359-4604-91e4-ab3ba68590bb",
   "metadata": {},
   "outputs": [],
   "source": []
  },
  {
   "cell_type": "code",
   "execution_count": null,
   "id": "628d97bf-bc6c-4381-8694-ec4b9b080ae6",
   "metadata": {},
   "outputs": [],
   "source": []
  },
  {
   "cell_type": "code",
   "execution_count": null,
   "id": "2b9d2655-4f59-49c0-a501-5f634985eaa0",
   "metadata": {},
   "outputs": [],
   "source": []
  },
  {
   "cell_type": "code",
   "execution_count": null,
   "id": "34d07d85-133d-4040-9858-c47c0670dc8e",
   "metadata": {},
   "outputs": [],
   "source": []
  },
  {
   "cell_type": "code",
   "execution_count": null,
   "id": "2a956d50-2c77-4ebe-bd8a-e10788a0f6c6",
   "metadata": {},
   "outputs": [],
   "source": []
  },
  {
   "cell_type": "code",
   "execution_count": null,
   "id": "3842017e-1226-411e-87bb-53def7b713b5",
   "metadata": {},
   "outputs": [],
   "source": []
  },
  {
   "cell_type": "code",
   "execution_count": null,
   "id": "1683d3db-f1df-4e5e-bd1a-e9099579d29e",
   "metadata": {},
   "outputs": [],
   "source": []
  },
  {
   "cell_type": "code",
   "execution_count": null,
   "id": "4970dc9c-adea-4ae7-b6be-14e8456588a6",
   "metadata": {},
   "outputs": [],
   "source": []
  },
  {
   "cell_type": "code",
   "execution_count": null,
   "id": "cec5f86f-7cff-4f77-82ee-8237c1b665ec",
   "metadata": {},
   "outputs": [],
   "source": []
  },
  {
   "cell_type": "code",
   "execution_count": null,
   "id": "f2cf0931-7718-430e-aaf0-39e61fce5f12",
   "metadata": {},
   "outputs": [],
   "source": [
    "cfar ← { N ← 10 ⋄ cut ← ((-N)↓N↓⍵) ⋄ cut > (N÷2) ÷⍨ cut -⍨ +/¨(N+1+N) ,/ ⍵ }"
   ]
  },
  {
   "cell_type": "code",
   "execution_count": null,
   "id": "9af3988b-71c1-427b-9bdc-83e1b74326e4",
   "metadata": {},
   "outputs": [],
   "source": []
  },
  {
   "cell_type": "code",
   "execution_count": null,
   "id": "6f08acef-1802-4b90-9f7e-a3eda67b1f37",
   "metadata": {},
   "outputs": [],
   "source": []
  },
  {
   "cell_type": "code",
   "execution_count": null,
   "id": "815de527-a29d-43a6-9113-49c179ca3543",
   "metadata": {},
   "outputs": [],
   "source": []
  }
 ],
 "metadata": {
  "kernelspec": {
   "display_name": "Dyalog APL",
   "language": "apl",
   "name": "dyalog_apl"
  },
  "language_info": {
   "file_extension": ".apl",
   "mimetype": "text/apl",
   "name": "APL"
  }
 },
 "nbformat": 4,
 "nbformat_minor": 5
}
