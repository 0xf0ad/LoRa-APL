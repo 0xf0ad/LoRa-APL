{
 "cells": [
  {
   "cell_type": "code",
   "execution_count": 1,
   "id": "a7257827-2806-43a7-8ccb-448b10ed7bb0",
   "metadata": {},
   "outputs": [
    {
     "data": {
      "text/html": [
       "<pre class=\"language-APL\">/opt/mdyalog/19.0/64/unicode/ws/isolate.dws ⍝ saved Wed Sep  4 22:43:51 2024\n",
       "                                                       \n",
       " For information on how to use Futures and Isolates,   \n",
       " see the manual \"Parallel Language Features\",          \n",
       " which can be found in the Dyalog Documentation Centre \n",
       " at http://docs.dyalog.com                             \n",
       "</pre>"
      ]
     },
     "execution_count": 1,
     "metadata": {},
     "output_type": "execute_result"
    },
    {
     "data": {
      "text/html": [
       "<pre class=\"language-APL\">0\n",
       "</pre>"
      ]
     },
     "execution_count": 1,
     "metadata": {},
     "output_type": "execute_result"
    }
   ],
   "source": [
    ")load isolate\n",
    "isolate.Config 'listen' 1"
   ]
  },
  {
   "cell_type": "code",
   "execution_count": 2,
   "id": "5b8c9a36-5951-46b5-bae6-39409eb989e3",
   "metadata": {},
   "outputs": [],
   "source": [
    "SNRs ← (¯35 + (⍳50)÷2)\n",
    "iso ← ø¨(≢SNRs)⍴⊂''\n",
    "iso.SNR ← SNRs\n",
    "SNR ← 0"
   ]
  },
  {
   "cell_type": "code",
   "execution_count": null,
   "id": "83a2c7b4-d0bf-4f4e-a3aa-b97161e4fd12",
   "metadata": {},
   "outputs": [],
   "source": []
  },
  {
   "cell_type": "code",
   "execution_count": 3,
   "id": "1f154a25-e8b7-43c7-ada6-d60cafa56f73",
   "metadata": {},
   "outputs": [],
   "source": [
    "'InitCauseway' 'View' ⎕CY'sharpplot'"
   ]
  },
  {
   "cell_type": "code",
   "execution_count": 4,
   "id": "56f5bccf-c3be-4e29-a1f8-4fc2a88e6cbd",
   "metadata": {},
   "outputs": [],
   "source": [
    "]dinput\n",
    "plot ← {\n",
    "    do  ← {⍎'⍺⍺ ⍵ ⋄ ⍵' ⋄ ⍺⍺}\n",
    "    _   ← InitCauseway do ⍬\n",
    "    sp  ← ⎕NEW Causeway.SharpPlot\n",
    "    ⍝sp.YAxisStyle ← Causeway.YAxisStyles.LogScale + Causeway.YAxisStyles.ClampToAxis\n",
    "    sp.LineGraphStyle ← Causeway.LineGraphStyles.GridLines\n",
    "    _   ← sp.DrawLineGraph do ⍵\n",
    "    sp.SavePdf ⍺ Causeway.PdfMode.ShowOutlines\n",
    "    ⍝svg ← sp.RenderSvg Causeway.SvgMode.FixedAspect\n",
    "    ⍝_   ← 'Reaction Times' (3500⌶) svg\n",
    "}"
   ]
  },
  {
   "cell_type": "code",
   "execution_count": 5,
   "id": "23b48ae8-b940-415e-83f1-a4d3e68b9080",
   "metadata": {},
   "outputs": [],
   "source": [
    "]dinput\n",
    "fft ← {\n",
    "    k    ← 2÷⍨≢⍵\n",
    "    1>k : ⍵\n",
    "    0≠1 | 2⍟≢⍵: 'la taille doit etre un mult de 2'\n",
    "    odd  ← ∇((≢⍵)⍴1 0)/⍵\n",
    "    even ← ∇((≢⍵)⍴0 1)/⍵\n",
    "    exp  ← *(0J¯2×(○1)×(¯1+⍳k)÷≢⍵)\n",
    "    T    ← even × exp\n",
    "    (odd+T), (odd-T)\n",
    "}"
   ]
  },
  {
   "cell_type": "code",
   "execution_count": 4,
   "id": "ce26e1fd-93b5-4533-9bbf-bb3e891262fa",
   "metadata": {},
   "outputs": [],
   "source": [
    "iso.SF ← SF ← 8                 ⍝ spread factor\n",
    "iso.ns ← ns ← 2*12              ⍝ nombre de samples at least 19\n",
    "iso.B  ← B  ← 125e3             ⍝ bandwitdh\n",
    "iso.f0 ← f0 ← 0\n",
    "iso.T  ← T  ← 1 ÷ B             ⍝ periode\n",
    "iso.Ts ← Ts ← T × 2*SF          ⍝ periode de symbole\n",
    "iso.t  ← ⊂(¯1+⍳ns)×Ts÷ns   ⍝ variable du temps\n",
    "t  ← (¯1+⍳ns)×Ts÷ns\n",
    "iso.Ps ← Ps ← 1"
   ]
  },
  {
   "cell_type": "code",
   "execution_count": 5,
   "id": "d52d9c1a-d099-499b-865c-286791bfa36e",
   "metadata": {},
   "outputs": [],
   "source": [
    "Re  ← { (⍵ + +⍵) ÷ 2 }"
   ]
  },
  {
   "cell_type": "code",
   "execution_count": 6,
   "id": "f2a63d50-65cc-4579-9563-e2b6564deaba",
   "metadata": {},
   "outputs": [],
   "source": [
    "]dinput\n",
    "chirp ← {\n",
    "    s   ← ⍵\n",
    "    f   ← ((2*SF) | (t÷T) + s) × (B÷(2*SF))\n",
    "    phi ← ○2 × +\\ (f0+f) × Ts÷ns\n",
    "    *(0J1 × phi)\n",
    "}"
   ]
  },
  {
   "cell_type": "code",
   "execution_count": 7,
   "id": "6da50b37-3998-4394-83bb-0c35172da05e",
   "metadata": {},
   "outputs": [],
   "source": [
    "]dinput\n",
    "chirp_string ← {\n",
    "    w ← ⎕UCS ⍵\n",
    "    ∊chirp¨w\n",
    "}"
   ]
  },
  {
   "cell_type": "code",
   "execution_count": 7,
   "id": "11caa71f-7a5c-4375-acc9-81e5e9da4edc",
   "metadata": {},
   "outputs": [
    {
     "data": {
      "text/html": [
       "<pre class=\"language-APL\">#.Py\n",
       "</pre>"
      ]
     },
     "execution_count": 7,
     "metadata": {},
     "output_type": "execute_result"
    }
   ],
   "source": [
    "]load ../pynapl/pynapl/Py\n",
    "py ← ⎕NEW Py.Py\n",
    "plt ← py.Import 'matplotlib.pyplot'"
   ]
  },
  {
   "cell_type": "code",
   "execution_count": 33,
   "id": "305acfed-cf29-4ca5-8f53-4c72f925cfca",
   "metadata": {},
   "outputs": [],
   "source": [
    "]dinput\n",
    "gauss ← {\n",
    "   depth ← 2*32                             ⍝ profondeure de aletoirement\n",
    "   (x y) ← ⊂[1+⍳⍴,⍵](?(2,⍵)⍴ depth) ÷ depth ⍝ deux variables aleatoires dans ]0;1]\n",
    "   ((¯2×⍟x) * 0.5) × *(0J1 × ○2 × y)        ⍝ methode de Box-Muller\n",
    "}"
   ]
  },
  {
   "cell_type": "code",
   "execution_count": 10,
   "id": "4e9beeb0-985d-429c-bde7-c7988f11ced7",
   "metadata": {},
   "outputs": [],
   "source": [
    "noise ← { ((Ps × 10*SNR÷¯10) * 0.5) × gauss ≢⍵ }"
   ]
  },
  {
   "cell_type": "code",
   "execution_count": 11,
   "id": "c0053a5b-578d-46b9-bc74-e835aba586ab",
   "metadata": {},
   "outputs": [],
   "source": [
    "chop ← { s ← ≢⍵ ⋄ ws ← s÷2 ⋄ sk ← 8 ⋄ ( (1+s-ws) ⍴ ((sk⍴0), 1))/ (ws ,/ ⍵) }"
   ]
  },
  {
   "cell_type": "code",
   "execution_count": 12,
   "id": "4334e2b1-399d-4432-8999-1819ab72f2ec",
   "metadata": {},
   "outputs": [],
   "source": [
    "spectrogram ← { N ← 1 ⋄ {((≢⍵)÷N)↑⍵} |fft ¨ chop ⍵ (,⍣N)⍬ }"
   ]
  },
  {
   "cell_type": "code",
   "execution_count": null,
   "id": "aa283041-db07-4783-831a-97dcc61ce2d6",
   "metadata": {},
   "outputs": [],
   "source": [
    "sym ← 25\n",
    "c   ← chirp sym\n",
    "nl ← ⎕UCS 10\n",
    "{(Re c[⍵]) ',' (t[⍵]) (nl)}¨(⍳ns)"
   ]
  },
  {
   "cell_type": "code",
   "execution_count": 74,
   "id": "c1d5c8d6-c0a7-4902-ae6e-3ce7e89f1e5d",
   "metadata": {},
   "outputs": [],
   "source": [
    "sym ← 420\n",
    "c   ← chirp sym\n",
    "r   ← c + noise c\n",
    "\n",
    "⍝plot r+c t\n",
    "spe ← spectrogram r"
   ]
  },
  {
   "cell_type": "code",
   "execution_count": 81,
   "id": "c1cbfb83-fecf-4c66-85b8-d41447a9fe9d",
   "metadata": {},
   "outputs": [],
   "source": [
    "plt.imshow ⊂↓⌽⍉↑spe\n",
    "plt.show ⍬"
   ]
  },
  {
   "cell_type": "code",
   "execution_count": null,
   "id": "ecfb6f06-8fd5-46d3-b302-21e423b91146",
   "metadata": {},
   "outputs": [],
   "source": []
  },
  {
   "cell_type": "code",
   "execution_count": null,
   "id": "312dbb2b-3ab8-4f17-9632-d0bc49a8f18b",
   "metadata": {},
   "outputs": [],
   "source": []
  },
  {
   "cell_type": "code",
   "execution_count": null,
   "id": "669bea3a-9fff-4fae-862d-681f641570d9",
   "metadata": {},
   "outputs": [],
   "source": []
  },
  {
   "cell_type": "code",
   "execution_count": 13,
   "id": "54cf6760-1182-46a6-86d1-e0da67d0a638",
   "metadata": {},
   "outputs": [],
   "source": [
    "dechirp ← { s ← {⍵ ≡ ⍬: 0 ⋄ ⍵}⍵ ⋄ ⊖+chirp s }"
   ]
  },
  {
   "cell_type": "code",
   "execution_count": null,
   "id": "b2359c8b-e784-4e2c-adfa-3ccae4685f5b",
   "metadata": {},
   "outputs": [],
   "source": []
  },
  {
   "cell_type": "code",
   "execution_count": 41,
   "id": "0f950a82-97c6-4d04-b834-bb68ba7fbeea",
   "metadata": {},
   "outputs": [],
   "source": [
    "\n",
    "plt.imshow ⊂ spectrogram (c×dechirp ⍬)\n",
    "plt.show ⍬"
   ]
  },
  {
   "cell_type": "code",
   "execution_count": 75,
   "id": "477a1aa1-63b5-49f3-a5be-f6d40aeca7e2",
   "metadata": {},
   "outputs": [
    {
     "data": {
      "text/html": [
       "<svg version=\"1.1\" baseProfile=\"full\" width=\"100%\" height=\"100%\" viewBox=\"0 0 4320 3240\"  xmlns=\"http://www.w3.org/2000/svg\" xmlns:xlink=\"http://www.w3.org/1999/xlink\" xmlns:ev=\"http://www.w3.org/2001/xml-events\" >\n",
       "<desc>Created by Causeway SVG engine - SharpPlot v3.71.0</desc>\n",
       "<g stroke-miterlimit=\"100\">\n",
       "<desc>Paint the paper =====</desc>\n",
       " <g fill=\"White\" >\n",
       "  <rect x=\"0\" y=\"0\" width=\"4320\" height=\"3240\" />\n",
       " </g>\n",
       "<desc>Border =====</desc>\n",
       "<desc>Region =====</desc>\n",
       "<desc>X-Axis Ticks =====</desc>\n",
       "<desc>X-Axis tickmarks</desc>\n",
       " <path fill=\"none\" stroke-width=\"7.2\" stroke=\"Black\" d=\"M400 2720L400 2764M685 2720L685 2764M969 2720L969 2764M1254 2720L1254 2764M1538 2720L1538 2764M1823 2720L1823 2764M2108 2720L2108 2764M2392 2720L2392 2764M2677 2720L2677 2764M2962 2720L2962 2764M3246 2720L3246 2764M3531 2720L3531 2764M3815 2720L3815 2764M4100 2720L4100 2764\"/>\n",
       "<desc>Y-Axis Ticks =====</desc>\n",
       "<desc>Y-Axis tickmarks</desc>\n",
       " <path fill=\"none\" stroke-width=\"7.2\" stroke=\"Black\" d=\"M400 2720L367 2720M400 2559L367 2559M400 2397L367 2397M400 2236L367 2236M400 2074L367 2074M400 1913L367 1913M400 1751L367 1751M400 1590L367 1590M400 1429L367 1429M400 1267L367 1267M400 1106L367 1106M400 944L367 944M400 783L367 783M400 621L367 621M400 460L367 460\"/>\n",
       "<desc>Axes =====</desc>\n",
       " <path fill=\"none\" stroke-width=\"12\" stroke=\"Black\" d=\"M400 2764L400 416M356 2720L4144 2720\"/>\n",
       "<desc>Y-axis labels</desc>\n",
       " <g font-family=\"Times New Roman\" font-size=\"80\" text-anchor=\"end\" >\n",
       "  <text x=\"335\" y=\"2740\" >0</text>\n",
       "  <text x=\"335\" y=\"2579\" >10</text>\n",
       "  <text x=\"335\" y=\"2417\" >20</text>\n",
       "  <text x=\"335\" y=\"2256\" >30</text>\n",
       "  <text x=\"335\" y=\"2094\" >40</text>\n",
       "  <text x=\"335\" y=\"1933\" >50</text>\n",
       "  <text x=\"335\" y=\"1771\" >60</text>\n",
       "  <text x=\"335\" y=\"1610\" >70</text>\n",
       "  <text x=\"335\" y=\"1449\" >80</text>\n",
       "  <text x=\"335\" y=\"1287\" >90</text>\n",
       "  <text x=\"335\" y=\"1126\" >100</text>\n",
       "  <text x=\"335\" y=\"964\" >110</text>\n",
       "  <text x=\"335\" y=\"803\" >120</text>\n",
       "  <text x=\"335\" y=\"641\" >130</text>\n",
       "  <text x=\"335\" y=\"480\" >140</text>\n",
       " </g>\n",
       "<desc>for X-axis labels</desc>\n",
       " <g font-family=\"Times New Roman\" font-size=\"80\" text-anchor=\"middle\" >\n",
       "  <text x=\"400\" y=\"2844\" >0</text>\n",
       "  <text x=\"685\" y=\"2844\" >10</text>\n",
       "  <text x=\"969\" y=\"2844\" >20</text>\n",
       "  <text x=\"1254\" y=\"2844\" >30</text>\n",
       "  <text x=\"1538\" y=\"2844\" >40</text>\n",
       "  <text x=\"1823\" y=\"2844\" >50</text>\n",
       "  <text x=\"2108\" y=\"2844\" >60</text>\n",
       "  <text x=\"2392\" y=\"2844\" >70</text>\n",
       "  <text x=\"2677\" y=\"2844\" >80</text>\n",
       "  <text x=\"2962\" y=\"2844\" >90</text>\n",
       "  <text x=\"3246\" y=\"2844\" >100</text>\n",
       "  <text x=\"3531\" y=\"2844\" >110</text>\n",
       "  <text x=\"3815\" y=\"2844\" >120</text>\n",
       "  <text x=\"4100\" y=\"2844\" >130</text>\n",
       " </g>\n",
       "<desc>Heading, subheading and footnotes =====</desc>\n",
       "<desc>Start of Line Chart ===========</desc>\n",
       "<desc>Points follow ...</desc>\n",
       "<desc>Line</desc>\n",
       " <g stroke-width=\"3\" stroke=\"Navy\" stroke-linejoin=\"round\" stroke-linecap=\"round\" fill=\"none\" >\n",
       "  <path d=\"M4043 2061L4015 2139 3986 2226 3958 1486 3929 2350 3901 1966 3872 2108 3844 1854 3815 1489 3787 1494 3758 2062 3730 2619 3702 2345 3673 2525 3645 1972 3616 2244 3588 1780 3559 2090 3531 2108 3502 537 3474 2185 3445 1797 3417 1906 3388 1628 3360 2486 3332 1612 3303 1881 3275 2488 3246 1862 3218 1703 3189 2133 3161 1948 3132 2431 3104 2116 3075 2338 3047 2509 3018 1945 2990 1973 2962 1754 2933 2576 2905 1837 2876 2290 2848 1768 2819 2011 2791 1757 2762 2291 2734 2323 2705 1544 2677 1932 2648 2518 2620 1993 2592 1563 2563 1726 2535 2391 2506 2369 2478 1979 2449 2549 2421 1478 2392 1843 2364 2228 2335 1726 2307 2378 2278 2550 2250 1384 2222 2419 2193 1963 2165 1748 2136 1439 2108 1996 2079 2049 2051 1805 2022 2221 1994 1776 1965 2224 1937 2217 1908 2089 1880 2277 1852 1606 1823 1874 1795 1868 1766 2411 1738 2116 1709 1867 1681 1910 1652 2298 1624 1687 1595 2145 1567 2534 1538 2210 1510 2012 1482 2403 1453 711 1425 2309 1396 2242 1368 960 1339 2313 1311 1206 1282 2088 1254 1352 1225 1303 1197 1980 1168 2409 1140 1766 1112 1593 1083 2499 1055 1946 1026 1920 998 1236 969 1492 941 1773 912 2039 884 1798 855 1353 827 2054 798 2159 770 2279 742 1538 713 894 685 1802 656 2360 628 1951 599 2513 571 1671 542 2282 514 1544 485 2209 457 1790 428 1838\" />\n",
       " </g>\n",
       "<desc>Reset to original origin</desc>\n",
       "</g>\n",
       "</svg>\n"
      ]
     },
     "execution_count": 75,
     "metadata": {},
     "output_type": "execute_result"
    }
   ],
   "source": [
    "plot |fft r×dechirp ⍬"
   ]
  },
  {
   "cell_type": "code",
   "execution_count": 14,
   "id": "5f35109f-826a-42f5-87cf-92c2bbc34ad5",
   "metadata": {},
   "outputs": [],
   "source": [
    "demodulate ← { ¯1 + ⊃⍒|fft ⍵×dechirp ⍬ }"
   ]
  },
  {
   "cell_type": "code",
   "execution_count": 15,
   "id": "5ffb8e97-520d-43ed-93be-6536fc40e9e3",
   "metadata": {},
   "outputs": [],
   "source": [
    "]dinput\n",
    "check ← {\n",
    "    c   ← chirp ⍵\n",
    "    r   ← c + noise c\n",
    "    ⍵ = demodulate r\n",
    "}"
   ]
  },
  {
   "cell_type": "code",
   "execution_count": null,
   "id": "2f411596-3c8f-4c60-a227-809b639f5fc4",
   "metadata": {},
   "outputs": [],
   "source": []
  },
  {
   "cell_type": "code",
   "execution_count": null,
   "id": "c37152ba-5545-4266-9182-21f9b1004cf1",
   "metadata": {},
   "outputs": [],
   "source": []
  },
  {
   "cell_type": "code",
   "execution_count": 16,
   "id": "181b7fc8-3be4-434f-a04b-6b3a5dd3b410",
   "metadata": {},
   "outputs": [],
   "source": [
    "_←iso.⎕FX ⊂⎕CR 'fft'\n",
    "_←iso.⎕FX ⊂⎕CR 'check'\n",
    "_←iso.⎕FX ⊂⎕CR 'chirp'\n",
    "_←iso.⎕FX ⊂⎕CR 'noise'\n",
    "_←iso.⎕FX ⊂⎕CR 'demodulate'\n",
    "_←iso.⎕FX ⊂⎕CR 'gauss'\n",
    "_←iso.⎕FX ⊂⎕CR 'dechirp'"
   ]
  },
  {
   "cell_type": "code",
   "execution_count": null,
   "id": "c862ad6e-34d8-4bd4-b4ac-a15bdc888263",
   "metadata": {},
   "outputs": [],
   "source": []
  },
  {
   "cell_type": "code",
   "execution_count": null,
   "id": "ca5d2d12-d617-409f-aa6a-19501f8bd997",
   "metadata": {},
   "outputs": [],
   "source": []
  },
  {
   "cell_type": "code",
   "execution_count": null,
   "id": "20b651a8-5af8-4a92-8294-e873fd292852",
   "metadata": {},
   "outputs": [],
   "source": []
  },
  {
   "cell_type": "code",
   "execution_count": 17,
   "id": "90b7215c-06b6-49c9-a788-551a5d53ade4",
   "metadata": {},
   "outputs": [],
   "source": [
    "simulate ← { r ← ⍵ ÷⍨ ⍵ - +/check¨?⍵⍴¯1+2*SF ⋄ r = 0 : 100÷⍵ ⋄ r×100 }"
   ]
  },
  {
   "cell_type": "code",
   "execution_count": 18,
   "id": "12ea263e-63ce-4f7a-82bb-9f335ca0bfeb",
   "metadata": {},
   "outputs": [],
   "source": [
    "_←iso.⎕FX ⊂⎕CR 'simulate'"
   ]
  },
  {
   "cell_type": "code",
   "execution_count": null,
   "id": "85463116-9aa9-4ccb-9ebe-645817ef33ef",
   "metadata": {},
   "outputs": [],
   "source": []
  },
  {
   "cell_type": "code",
   "execution_count": null,
   "id": "94d95a46-c78f-4012-9733-1579ecef6814",
   "metadata": {},
   "outputs": [],
   "source": []
  },
  {
   "cell_type": "code",
   "execution_count": 19,
   "id": "516551ce-58a4-442f-bc84-816ec9a1f1e6",
   "metadata": {},
   "outputs": [],
   "source": [
    "varieSF ← { SF ⊢← ⍵ ⋄ ns ⊢← 2*SF ⋄ Ts ⊢← T × 2*SF ⋄ t ⊢← (¯1+⍳ns)×Ts÷ns ⋄ simulate 1000 }"
   ]
  },
  {
   "cell_type": "code",
   "execution_count": 20,
   "id": "f09deb86-d1b2-48ea-a8a1-ff0abe203934",
   "metadata": {},
   "outputs": [],
   "source": [
    "_←iso.⎕FX ⊂⎕CR 'varieSF'"
   ]
  },
  {
   "cell_type": "code",
   "execution_count": 21,
   "id": "9a127592-1999-4901-a215-ac72ede2fe2b",
   "metadata": {},
   "outputs": [],
   "source": [
    "SFhh  ← iso.(varieSF¨7+⍳9)"
   ]
  },
  {
   "cell_type": "code",
   "execution_count": null,
   "id": "379a2ea5-e8ed-4439-9fca-eb6a8a04100d",
   "metadata": {},
   "outputs": [],
   "source": []
  },
  {
   "cell_type": "code",
   "execution_count": 23,
   "id": "09ae4505-61cf-4887-b0e6-c7b3b4e5aa08",
   "metadata": {},
   "outputs": [
    {
     "data": {
      "text/html": [
       "<svg version=\"1.1\" baseProfile=\"full\" width=\"100%\" height=\"100%\" viewBox=\"0 0 4320 3240\"  xmlns=\"http://www.w3.org/2000/svg\" xmlns:xlink=\"http://www.w3.org/1999/xlink\" xmlns:ev=\"http://www.w3.org/2001/xml-events\" >\n",
       "<desc>Created by Causeway SVG engine - SharpPlot v3.71.0</desc>\n",
       "<g stroke-miterlimit=\"100\">\n",
       "<desc>Paint the paper =====</desc>\n",
       " <g fill=\"White\" >\n",
       "  <rect x=\"0\" y=\"0\" width=\"4320\" height=\"3240\" />\n",
       " </g>\n",
       "<desc>Border =====</desc>\n",
       "<desc>Region =====</desc>\n",
       "<desc>X-Axis Ticks =====</desc>\n",
       "<desc>X-Axis Grid</desc>\n",
       " <path fill=\"none\" stroke-width=\"1.8\" stroke=\"Silver\" d=\"M400 2720L400 460M685 2720L685 460M969 2720L969 460M1254 2720L1254 460M1538 2720L1538 460M1823 2720L1823 460M2108 2720L2108 460M2392 2720L2392 460M2677 2720L2677 460M2962 2720L2962 460M3246 2720L3246 460M3531 2720L3531 460M3815 2720L3815 460M4100 2720L4100 460\"/>\n",
       "<desc>X-Axis tickmarks</desc>\n",
       " <path fill=\"none\" stroke-width=\"7.2\" stroke=\"Black\" d=\"M400 2720L400 2764M685 2720L685 2764M969 2720L969 2764M1254 2720L1254 2764M1538 2720L1538 2764M1823 2720L1823 2764M2108 2720L2108 2764M2392 2720L2392 2764M2677 2720L2677 2764M2962 2720L2962 2764M3246 2720L3246 2764M3531 2720L3531 2764M3815 2720L3815 2764M4100 2720L4100 2764\"/>\n",
       "<desc>Y-Axis Ticks =====</desc>\n",
       "<desc>Y grid</desc>\n",
       " <path fill=\"none\" stroke-width=\"1.8\" stroke=\"Silver\" d=\"M400 2720L4100 2720M400 1967L4100 1967M400 1213L4100 1213M400 460L4100 460\"/>\n",
       "<desc>Y-Axis tickmarks</desc>\n",
       " <path fill=\"none\" stroke-width=\"7.2\" stroke=\"Black\" d=\"M400 2720L367 2720M400 1967L367 1967M400 1213L367 1213M400 460L367 460\"/>\n",
       "<desc>Axes =====</desc>\n",
       " <path fill=\"none\" stroke-width=\"12\" stroke=\"Black\" d=\"M400 2764L400 416M356 2720L4144 2720\"/>\n",
       "<desc>Y-axis labels</desc>\n",
       " <g font-family=\"Times New Roman\" font-size=\"80\" text-anchor=\"end\" >\n",
       "  <text x=\"335\" y=\"2740\" >0.1</text>\n",
       "  <text x=\"335\" y=\"1987\" >1</text>\n",
       "  <text x=\"335\" y=\"1233\" >10</text>\n",
       "  <text x=\"335\" y=\"480\" >100</text>\n",
       " </g>\n",
       "<desc>for X-axis labels</desc>\n",
       " <g font-family=\"Times New Roman\" font-size=\"80\" text-anchor=\"middle\" >\n",
       "  <text x=\"400\" y=\"2844\" >-36</text>\n",
       "  <text x=\"685\" y=\"2844\" >-34</text>\n",
       "  <text x=\"969\" y=\"2844\" >-32</text>\n",
       "  <text x=\"1254\" y=\"2844\" >-30</text>\n",
       "  <text x=\"1538\" y=\"2844\" >-28</text>\n",
       "  <text x=\"1823\" y=\"2844\" >-26</text>\n",
       "  <text x=\"2108\" y=\"2844\" >-24</text>\n",
       "  <text x=\"2392\" y=\"2844\" >-22</text>\n",
       "  <text x=\"2677\" y=\"2844\" >-20</text>\n",
       "  <text x=\"2962\" y=\"2844\" >-18</text>\n",
       "  <text x=\"3246\" y=\"2844\" >-16</text>\n",
       "  <text x=\"3531\" y=\"2844\" >-14</text>\n",
       "  <text x=\"3815\" y=\"2844\" >-12</text>\n",
       "  <text x=\"4100\" y=\"2844\" >-10</text>\n",
       " </g>\n",
       "<desc>Heading, subheading and footnotes =====</desc>\n",
       "<desc>Start of Line Chart ===========</desc>\n",
       "<desc>Points follow ...</desc>\n",
       "<desc>Line</desc>\n",
       " <g stroke-width=\"3\" stroke=\"Navy\" stroke-linejoin=\"round\" stroke-linecap=\"round\" fill=\"none\" >\n",
       "  <path d=\"M4100 1380L4029 1241 3958 1110 3887 1000 3815 918 3744 822 3673 751 3602 700 3531 643 3460 625 3388 607 3317 562 3246 549 3175 537 3104 520 3033 510 2962 508 2890 491 2819 486 2748 483 2677 482 2606 473 2535 468 2463 472 2392 468 2321 473 2250 467 2179 465 2108 467 2037 466 1965 466 1894 463 1823 462 1752 463 1681 462 1610 462 1538 463 1467 462 1396 462 1325 461 1254 462 1183 462 1112 462 1040 462 969 462 898 461 827 462 756 462 685 461 613 462\" />\n",
       " </g>\n",
       "<desc>Points follow ...</desc>\n",
       "<desc>Line</desc>\n",
       " <g stroke-width=\"3\" stroke=\"Maroon\" stroke-linejoin=\"round\" stroke-linecap=\"round\" stroke-dasharray=\"9 12\" fill=\"none\" >\n",
       "  <path d=\"M4100 2720L4029 2720 3958 2493 3887 2001 3815 1709 3744 1467 3673 1270 3602 1108 3531 1028 3460 939 3388 828 3317 760 3246 689 3175 647 3104 608 3033 582 2962 563 2890 545 2819 529 2748 514 2677 500 2606 490 2535 486 2463 481 2392 479 2321 474 2250 474 2179 471 2108 471 2037 465 1965 466 1894 464 1823 465 1752 464 1681 464 1610 462 1538 463 1467 461 1396 463 1325 462 1254 461 1183 461 1112 463 1040 461 969 461 898 461 827 461 756 461 685 461 613 460\" />\n",
       " </g>\n",
       "<desc>Points follow ...</desc>\n",
       "<desc>Line</desc>\n",
       " <g stroke-width=\"3\" stroke=\"Teal\" stroke-linejoin=\"round\" stroke-linecap=\"round\" stroke-dasharray=\"0.3 5.7\" fill=\"none\" >\n",
       "  <path d=\"M4100 2720L4029 2720 3958 2720 3887 2720 3815 2720 3744 2720 3673 2493 3602 2720 3531 2083 3460 1907 3388 1586 3317 1359 3246 1201 3175 1133 3104 972 3033 854 2962 758 2890 700 2819 663 2748 613 2677 576 2606 553 2535 532 2463 518 2392 500 2321 498 2250 489 2179 477 2108 477 2037 473 1965 472 1894 470 1823 467 1752 465 1681 467 1610 464 1538 462 1467 462 1396 461 1325 461 1254 463 1183 463 1112 462 1040 462 969 461 898 462 827 461 756 461 685 463 613 461\" />\n",
       " </g>\n",
       "<desc>Points follow ...</desc>\n",
       "<desc>Line</desc>\n",
       " <g stroke-width=\"3\" stroke=\"Green\" stroke-linejoin=\"round\" stroke-linecap=\"round\" stroke-dasharray=\"9 6.45 0.3 6.45\" fill=\"none\" >\n",
       "  <path d=\"M4100 2720L4029 2720 3958 2720 3887 2720 3815 2720 3744 2720 3673 2720 3602 2720 3531 2720 3460 2720 3388 2720 3317 2720 3246 2493 3175 2361 3104 2001 3033 1813 2962 1467 2890 1274 2819 1151 2748 983 2677 886 2606 778 2535 732 2463 668 2392 613 2321 584 2250 559 2179 529 2108 514 2037 502 1965 494 1894 485 1823 482 1752 477 1681 474 1610 469 1538 466 1467 468 1396 465 1325 466 1254 463 1183 462 1112 463 1040 463 969 461 898 461 827 462 756 461 685 463 613 461\" />\n",
       " </g>\n",
       "<desc>Points follow ...</desc>\n",
       "<desc>Line</desc>\n",
       " <g stroke-width=\"3\" stroke=\"Purple\" stroke-linejoin=\"round\" stroke-linecap=\"round\" fill=\"none\" >\n",
       "  <path d=\"M4100 2720L4029 2720 3958 2720 3887 2720 3815 2720 3744 2720 3673 2720 3602 2720 3531 2720 3460 2720 3388 2720 3317 2720 3246 2720 3175 2720 3104 2720 3033 2720 2962 2720 2890 2720 2819 2720 2748 1881 2677 1935 2606 1607 2535 1415 2463 1179 2392 1009 2321 907 2250 817 2179 746 2108 664 2037 626 1965 596 1894 561 1823 534 1752 518 1681 506 1610 494 1538 484 1467 474 1396 475 1325 468 1254 466 1183 469 1112 466 1040 463 969 463 898 465 827 463 756 460 685 461 613 461\" />\n",
       " </g>\n",
       "<desc>Points follow ...</desc>\n",
       "<desc>Line</desc>\n",
       " <g stroke-width=\"3\" stroke=\"Gray\" stroke-linejoin=\"round\" stroke-linecap=\"round\" stroke-dasharray=\"9 12\" fill=\"none\" >\n",
       "  <path d=\"M4100 2720L4029 2720 3958 2720 3887 2720 3815 2720 3744 2720 3673 2720 3602 2720 3531 2720 3460 2720 3388 2720 3317 2720 3246 2720 3175 2720 3104 2720 3033 2720 2962 2720 2890 2720 2819 2720 2748 2720 2677 2720 2606 2720 2535 2720 2463 2720 2392 2361 2321 1907 2250 1680 2179 1497 2108 1259 2037 1094 1965 988 1894 871 1823 769 1752 703 1681 643 1610 606 1538 563 1467 542 1396 512 1325 500 1254 491 1183 482 1112 477 1040 474 969 468 898 470 827 471 756 467 685 463 613 465\" />\n",
       " </g>\n",
       "<desc>Points follow ...</desc>\n",
       "<desc>Line</desc>\n",
       " <g stroke-width=\"3\" stroke=\"Navy\" stroke-linejoin=\"round\" stroke-linecap=\"round\" stroke-dasharray=\"0.3 5.7\" fill=\"none\" >\n",
       "  <path d=\"M4100 2720L4029 2720 3958 2720 3887 2720 3815 2720 3744 2720 3673 2720 3602 2720 3531 2720 3460 2720 3388 2720 3317 2720 3246 2720 3175 2720 3104 2720 3033 2720 2962 2720 2890 2720 2819 2720 2748 2720 2677 2720 2606 2720 2535 2720 2463 2720 2392 2720 2321 2720 2250 2720 2179 2720 2108 2720 2037 2720 1965 2083 1894 1935 1823 1530 1752 1380 1681 1191 1610 1000 1538 910 1467 790 1396 729 1325 660 1254 606 1183 576 1112 536 1040 523 969 503 898 502 827 485 756 477 685 470 613 466\" />\n",
       " </g>\n",
       "<desc>Points follow ...</desc>\n",
       "<desc>Line</desc>\n",
       " <g stroke-width=\"3\" stroke=\"Maroon\" stroke-linejoin=\"round\" stroke-linecap=\"round\" stroke-dasharray=\"9 6.45 0.3 6.45\" fill=\"none\" >\n",
       "  <path d=\"M4100 2720L4029 2720 3958 2720 3887 2720 3815 2720 3744 2720 3673 2720 3602 2720 3531 2720 3460 2720 3388 2720 3317 2720 3246 2720 3175 2720 3104 2720 3033 2720 2962 2720 2890 2720 2819 2720 2748 2720 2677 2720 2606 2720 2535 2720 2463 2720 2392 2720 2321 2720 2250 2720 2179 2720 2108 2720 2037 2720 1965 2720 1894 2720 1823 2720 1752 2720 1681 2720 1610 2493 1538 2266 1467 1793 1396 1539 1325 1335 1254 1143 1183 966 1112 819 1040 771 969 689 898 621 827 578 756 555 685 525 613 504\" />\n",
       " </g>\n",
       "<desc>Points follow ...</desc>\n",
       "<desc>Line</desc>\n",
       " <g stroke-width=\"3\" stroke=\"Teal\" stroke-linejoin=\"round\" stroke-linecap=\"round\" fill=\"none\" >\n",
       "  <path d=\"M4100 2720L4029 2720 3958 2720 3887 2720 3815 2720 3744 2720 3673 2720 3602 2720 3531 2720 3460 2720 3388 2720 3317 2720 3246 2720 3175 2720 3104 2720 3033 2720 2962 2720 2890 2720 2819 2720 2748 2720 2677 2720 2606 2720 2535 2720 2463 2720 2392 2720 2321 2720 2250 2720 2179 2720 2108 2720 2037 2720 1965 2720 1894 2720 1823 2720 1752 2720 1681 2720 1610 2720 1538 2720 1467 2720 1396 2720 1325 2720 1254 2720 1183 2720 1112 2040 1040 1740 969 1482 898 1201 827 1055 756 891 685 795 613 713\" />\n",
       " </g>\n",
       "<desc>Reset to original origin</desc>\n",
       "</g>\n",
       "</svg>\n"
      ]
     },
     "execution_count": 23,
     "metadata": {},
     "output_type": "execute_result"
    },
    {
     "data": {
      "text/html": [
       "<pre class=\"language-APL\">Could not load bridge interface functions. (Error 0x00000000: \"\")\n",
       "</pre>"
      ]
     },
     "execution_count": 23,
     "metadata": {},
     "output_type": "execute_result"
    }
   ],
   "source": [
    "plot (↓⍉↑SFhh) SNRs"
   ]
  },
  {
   "cell_type": "code",
   "execution_count": null,
   "id": "bed19af0-f9c4-43ca-b967-4fefbcd4005c",
   "metadata": {},
   "outputs": [],
   "source": []
  },
  {
   "cell_type": "code",
   "execution_count": null,
   "id": "8ed129d5-2359-4604-91e4-ab3ba68590bb",
   "metadata": {},
   "outputs": [],
   "source": []
  },
  {
   "cell_type": "code",
   "execution_count": null,
   "id": "628d97bf-bc6c-4381-8694-ec4b9b080ae6",
   "metadata": {},
   "outputs": [],
   "source": []
  },
  {
   "cell_type": "code",
   "execution_count": null,
   "id": "2b9d2655-4f59-49c0-a501-5f634985eaa0",
   "metadata": {},
   "outputs": [],
   "source": []
  },
  {
   "cell_type": "code",
   "execution_count": null,
   "id": "34d07d85-133d-4040-9858-c47c0670dc8e",
   "metadata": {},
   "outputs": [],
   "source": []
  },
  {
   "cell_type": "code",
   "execution_count": null,
   "id": "2a956d50-2c77-4ebe-bd8a-e10788a0f6c6",
   "metadata": {},
   "outputs": [],
   "source": []
  },
  {
   "cell_type": "code",
   "execution_count": null,
   "id": "3842017e-1226-411e-87bb-53def7b713b5",
   "metadata": {},
   "outputs": [],
   "source": []
  },
  {
   "cell_type": "code",
   "execution_count": null,
   "id": "1683d3db-f1df-4e5e-bd1a-e9099579d29e",
   "metadata": {},
   "outputs": [],
   "source": []
  },
  {
   "cell_type": "code",
   "execution_count": null,
   "id": "4970dc9c-adea-4ae7-b6be-14e8456588a6",
   "metadata": {},
   "outputs": [],
   "source": []
  },
  {
   "cell_type": "code",
   "execution_count": null,
   "id": "cec5f86f-7cff-4f77-82ee-8237c1b665ec",
   "metadata": {},
   "outputs": [],
   "source": []
  },
  {
   "cell_type": "code",
   "execution_count": 70,
   "id": "f2cf0931-7718-430e-aaf0-39e61fce5f12",
   "metadata": {},
   "outputs": [],
   "source": [
    "cfar ← { N ← 10 ⋄ cut ← ((-N)↓N↓⍵) ⋄ cut > (N÷2) ÷⍨ cut -⍨ +/¨(N+1+N) ,/ ⍵ }"
   ]
  },
  {
   "cell_type": "code",
   "execution_count": null,
   "id": "9af3988b-71c1-427b-9bdc-83e1b74326e4",
   "metadata": {},
   "outputs": [],
   "source": []
  },
  {
   "cell_type": "code",
   "execution_count": null,
   "id": "6f08acef-1802-4b90-9f7e-a3eda67b1f37",
   "metadata": {},
   "outputs": [],
   "source": []
  },
  {
   "cell_type": "code",
   "execution_count": null,
   "id": "815de527-a29d-43a6-9113-49c179ca3543",
   "metadata": {},
   "outputs": [],
   "source": []
  }
 ],
 "metadata": {
  "kernelspec": {
   "display_name": "Dyalog APL",
   "language": "apl",
   "name": "dyalog_apl"
  },
  "language_info": {
   "file_extension": ".apl",
   "mimetype": "text/apl",
   "name": "APL"
  }
 },
 "nbformat": 4,
 "nbformat_minor": 5
}
